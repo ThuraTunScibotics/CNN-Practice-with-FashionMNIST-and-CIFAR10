{
  "nbformat": 4,
  "nbformat_minor": 0,
  "metadata": {
    "colab": {
      "name": "CNN-CIFAR10-with-TensorFlow.ipynb",
      "provenance": []
    },
    "kernelspec": {
      "name": "python3",
      "display_name": "Python 3"
    },
    "language_info": {
      "name": "python"
    },
    "accelerator": "GPU"
  },
  "cells": [
    {
      "cell_type": "markdown",
      "source": [
        "## Import TensorFlow and required libraries"
      ],
      "metadata": {
        "id": "d74tEX2wuJag"
      }
    },
    {
      "cell_type": "code",
      "execution_count": 1,
      "metadata": {
        "colab": {
          "base_uri": "https://localhost:8080/"
        },
        "id": "ToGH4XURojyb",
        "outputId": "c6f01915-2322-4506-ea9c-052529f6fbac"
      },
      "outputs": [
        {
          "output_type": "stream",
          "name": "stdout",
          "text": [
            "2.7.0\n"
          ]
        }
      ],
      "source": [
        "# Import TensorFlow\n",
        "import tensorflow as tf\n",
        "print(tf.__version__)"
      ]
    },
    {
      "cell_type": "code",
      "source": [
        "# Additional imports\n",
        "import numpy as np\n",
        "import matplotlib.pyplot as plt\n",
        "from tensorflow.keras.layers import Input, Conv2D, Flatten, Dense, Dropout, GlobalMaxPooling2D\n",
        "from tensorflow.keras.models import Model"
      ],
      "metadata": {
        "id": "UC1lt4Bfsd4K"
      },
      "execution_count": 2,
      "outputs": []
    },
    {
      "cell_type": "markdown",
      "source": [
        "## Load the Dataset"
      ],
      "metadata": {
        "id": "t9Uun-ubLEhG"
      }
    },
    {
      "cell_type": "code",
      "source": [
        "# Load the dataset\n",
        "\n",
        "cifar10 = tf.keras.datasets.cifar10\n",
        "\n",
        "(X_train, y_train), (X_test, y_test) = cifar10.load_data()"
      ],
      "metadata": {
        "colab": {
          "base_uri": "https://localhost:8080/"
        },
        "id": "Einc8cZ3yY6e",
        "outputId": "ec444985-5c5a-4af7-d139-8b56112b3eff"
      },
      "execution_count": 3,
      "outputs": [
        {
          "output_type": "stream",
          "name": "stdout",
          "text": [
            "Downloading data from https://www.cs.toronto.edu/~kriz/cifar-10-python.tar.gz\n",
            "170500096/170498071 [==============================] - 6s 0us/step\n",
            "170508288/170498071 [==============================] - 6s 0us/step\n"
          ]
        }
      ]
    },
    {
      "cell_type": "code",
      "source": [
        "print(\"X_train.shape:\", X_train.shape)\n",
        "print(\"y_train.shape:\", y_train.shape)"
      ],
      "metadata": {
        "colab": {
          "base_uri": "https://localhost:8080/"
        },
        "id": "bzArXq361JVb",
        "outputId": "434d3c79-3423-4eb3-e871-9415cd9171a6"
      },
      "execution_count": 4,
      "outputs": [
        {
          "output_type": "stream",
          "name": "stdout",
          "text": [
            "X_train.shape: (50000, 32, 32, 3)\n",
            "y_train.shape: (50000, 1)\n"
          ]
        }
      ]
    },
    {
      "cell_type": "code",
      "source": [
        "X_train, X_test = X_train/255.0, X_test/255.0\n",
        "y_train, y_test = y_train.flatten(), y_test.flatten()"
      ],
      "metadata": {
        "id": "ss1lQGqs104s"
      },
      "execution_count": 5,
      "outputs": []
    },
    {
      "cell_type": "code",
      "source": [
        "print(\"X_train.shape:\", X_train.shape)\n",
        "print(\"y_train.shape:\", y_train.shape)"
      ],
      "metadata": {
        "colab": {
          "base_uri": "https://localhost:8080/"
        },
        "id": "DuCrn7yk2huB",
        "outputId": "34a9cb59-6b85-45ff-ca36-5883e3ef6cb1"
      },
      "execution_count": 6,
      "outputs": [
        {
          "output_type": "stream",
          "name": "stdout",
          "text": [
            "X_train.shape: (50000, 32, 32, 3)\n",
            "y_train.shape: (50000,)\n"
          ]
        }
      ]
    },
    {
      "cell_type": "code",
      "source": [
        "# number of classes\n",
        "K = len(set(y_train))\n",
        "print(\"number of classes:\", K)"
      ],
      "metadata": {
        "colab": {
          "base_uri": "https://localhost:8080/"
        },
        "id": "JynER7lc54lB",
        "outputId": "b1f587f6-6c57-4e9e-b965-10845a3ba950"
      },
      "execution_count": 7,
      "outputs": [
        {
          "output_type": "stream",
          "name": "stdout",
          "text": [
            "number of classes: 10\n"
          ]
        }
      ]
    },
    {
      "cell_type": "markdown",
      "source": [
        "## Build the model using functional API"
      ],
      "metadata": {
        "id": "61yXMCpGLRWC"
      }
    },
    {
      "cell_type": "code",
      "source": [
        "# Build the model using the functional API\n",
        "\n",
        "i = Input(shape=X_train[0].shape)\n",
        "x = Conv2D(32, (3, 3), strides=2, activation='relu')(i)\n",
        "x = Conv2D(64, (3, 3), strides=2, activation='relu')(x)\n",
        "x = Conv2D(128, (3, 3), strides=2, activation='relu')(x)\n",
        "x = Flatten()(x)\n",
        "x = Dropout(0.5)(x)\n",
        "x = Dense(1024, activation='relu')(x)\n",
        "x = Dropout(0.2)(x)\n",
        "x = Dense(K, activation='softmax')(x)\n",
        "\n",
        "model = Model(i, x)"
      ],
      "metadata": {
        "id": "FVnN_CG16J_d"
      },
      "execution_count": 8,
      "outputs": []
    },
    {
      "cell_type": "code",
      "source": [
        "# Check GPU availability\n",
        "print(\"GPU\", \"available (Yesss!!!)\" if tf.config.list_physical_devices(\"GPU\") else \"not available :(\")"
      ],
      "metadata": {
        "colab": {
          "base_uri": "https://localhost:8080/"
        },
        "id": "Thv4nX5fY1-z",
        "outputId": "6d92783c-12dc-49a7-d847-df5570ca8dbb"
      },
      "execution_count": 10,
      "outputs": [
        {
          "output_type": "stream",
          "name": "stdout",
          "text": [
            "GPU available (Yesss!!!)\n"
          ]
        }
      ]
    },
    {
      "cell_type": "markdown",
      "source": [
        "## Train the model"
      ],
      "metadata": {
        "id": "cCxfuHXQLZ3P"
      }
    },
    {
      "cell_type": "code",
      "source": [
        "# Compile and fit\n",
        "# Note: make sure you are using the GPU for this:\n",
        "model.compile(optimizer='adam',\n",
        "              loss='sparse_categorical_crossentropy',\n",
        "              metrics=['accuracy'])\n",
        "\n",
        "r = model.fit(X_train, y_train, validation_data=(X_test, y_test), epochs=20)"
      ],
      "metadata": {
        "id": "n3qdvxmC-KpI",
        "colab": {
          "base_uri": "https://localhost:8080/"
        },
        "outputId": "fea87a22-e0e5-4ff0-f82e-a99f4ef053ba"
      },
      "execution_count": 12,
      "outputs": [
        {
          "output_type": "stream",
          "name": "stdout",
          "text": [
            "Epoch 1/20\n",
            "1563/1563 [==============================] - 28s 12ms/step - loss: 1.5933 - accuracy: 0.4156 - val_loss: 1.3065 - val_accuracy: 0.5193\n",
            "Epoch 2/20\n",
            "1563/1563 [==============================] - 18s 11ms/step - loss: 1.2909 - accuracy: 0.5347 - val_loss: 1.2467 - val_accuracy: 0.5556\n",
            "Epoch 3/20\n",
            "1563/1563 [==============================] - 17s 11ms/step - loss: 1.1611 - accuracy: 0.5812 - val_loss: 1.0564 - val_accuracy: 0.6186\n",
            "Epoch 4/20\n",
            "1563/1563 [==============================] - 18s 12ms/step - loss: 1.0611 - accuracy: 0.6170 - val_loss: 0.9950 - val_accuracy: 0.6444\n",
            "Epoch 5/20\n",
            "1563/1563 [==============================] - 19s 12ms/step - loss: 0.9940 - accuracy: 0.6450 - val_loss: 0.9286 - val_accuracy: 0.6747\n",
            "Epoch 6/20\n",
            "1563/1563 [==============================] - 17s 11ms/step - loss: 0.9313 - accuracy: 0.6684 - val_loss: 0.9259 - val_accuracy: 0.6764\n",
            "Epoch 7/20\n",
            "1563/1563 [==============================] - 16s 10ms/step - loss: 0.8794 - accuracy: 0.6865 - val_loss: 0.9047 - val_accuracy: 0.6839\n",
            "Epoch 8/20\n",
            "1563/1563 [==============================] - 18s 11ms/step - loss: 0.8254 - accuracy: 0.7058 - val_loss: 0.8672 - val_accuracy: 0.6952\n",
            "Epoch 9/20\n",
            "1563/1563 [==============================] - 17s 11ms/step - loss: 0.7868 - accuracy: 0.7183 - val_loss: 0.8566 - val_accuracy: 0.6989\n",
            "Epoch 10/20\n",
            "1563/1563 [==============================] - 17s 11ms/step - loss: 0.7562 - accuracy: 0.7339 - val_loss: 0.8459 - val_accuracy: 0.7058\n",
            "Epoch 11/20\n",
            "1563/1563 [==============================] - 18s 12ms/step - loss: 0.7225 - accuracy: 0.7434 - val_loss: 0.8394 - val_accuracy: 0.7036\n",
            "Epoch 12/20\n",
            "1563/1563 [==============================] - 18s 11ms/step - loss: 0.6956 - accuracy: 0.7516 - val_loss: 0.8080 - val_accuracy: 0.7185\n",
            "Epoch 13/20\n",
            "1563/1563 [==============================] - 17s 11ms/step - loss: 0.6697 - accuracy: 0.7601 - val_loss: 0.8491 - val_accuracy: 0.7023\n",
            "Epoch 14/20\n",
            "1563/1563 [==============================] - 18s 12ms/step - loss: 0.6434 - accuracy: 0.7715 - val_loss: 0.8175 - val_accuracy: 0.7144\n",
            "Epoch 15/20\n",
            "1563/1563 [==============================] - 18s 12ms/step - loss: 0.6260 - accuracy: 0.7765 - val_loss: 0.7969 - val_accuracy: 0.7238\n",
            "Epoch 16/20\n",
            "1563/1563 [==============================] - 17s 11ms/step - loss: 0.6040 - accuracy: 0.7853 - val_loss: 0.8104 - val_accuracy: 0.7207\n",
            "Epoch 17/20\n",
            "1563/1563 [==============================] - 19s 12ms/step - loss: 0.5861 - accuracy: 0.7913 - val_loss: 0.8457 - val_accuracy: 0.7167\n",
            "Epoch 18/20\n",
            "1563/1563 [==============================] - 18s 12ms/step - loss: 0.5812 - accuracy: 0.7947 - val_loss: 0.8038 - val_accuracy: 0.7233\n",
            "Epoch 19/20\n",
            "1563/1563 [==============================] - 13s 8ms/step - loss: 0.5563 - accuracy: 0.8038 - val_loss: 0.8004 - val_accuracy: 0.7260\n",
            "Epoch 20/20\n",
            "1563/1563 [==============================] - 13s 8ms/step - loss: 0.5494 - accuracy: 0.8048 - val_loss: 0.8066 - val_accuracy: 0.7225\n"
          ]
        }
      ]
    },
    {
      "cell_type": "markdown",
      "source": [
        "## Evaluate the model"
      ],
      "metadata": {
        "id": "84z3nbmbLeXi"
      }
    },
    {
      "cell_type": "code",
      "source": [
        "# Plot loss per iteration\n",
        "import matplotlib.pyplot as plt\n",
        "plt.plot(r.history['loss'], label='loss')\n",
        "plt.plot(r.history['val_loss'], label='val_loss')\n",
        "plt.legend()"
      ],
      "metadata": {
        "colab": {
          "base_uri": "https://localhost:8080/",
          "height": 282
        },
        "id": "hmNlbcDAYycN",
        "outputId": "e4e1bad1-9d2d-4c60-dd8a-336a5e91c433"
      },
      "execution_count": 14,
      "outputs": [
        {
          "output_type": "execute_result",
          "data": {
            "text/plain": [
              "<matplotlib.legend.Legend at 0x7f7988040750>"
            ]
          },
          "metadata": {},
          "execution_count": 14
        },
        {
          "output_type": "display_data",
          "data": {
            "image/png": "[encoded data removed]",
            "text/plain": [
              "<Figure size 432x288 with 1 Axes>"
            ]
          },
          "metadata": {
            "needs_background": "light"
          }
        }
      ]
    },
    {
      "cell_type": "code",
      "source": [
        "# Plot accuracy per iteration\n",
        "plt.plot(r.history['accuracy'], label='accuracy')\n",
        "plt.plot(r.history['val_accuracy'], label='val_accuracy')\n",
        "plt.legend()"
      ],
      "metadata": {
        "colab": {
          "base_uri": "https://localhost:8080/",
          "height": 282
        },
        "id": "0cXiFhK2jje4",
        "outputId": "ab3bb7fc-9aad-4238-cde5-4242b0f18f83"
      },
      "execution_count": 15,
      "outputs": [
        {
          "output_type": "execute_result",
          "data": {
            "text/plain": [
              "<matplotlib.legend.Legend at 0x7f7988226a10>"
            ]
          },
          "metadata": {},
          "execution_count": 15
        },
        {
          "output_type": "display_data",
          "data": {
            "image/png": "[encoded data removed]",
            "text/plain": [
              "<Figure size 432x288 with 1 Axes>"
            ]
          },
          "metadata": {
            "needs_background": "light"
          }
        }
      ]
    },
    {
      "cell_type": "code",
      "source": [
        "# Confusion matrix function\n",
        "from sklearn.metrics import confusion_matrix\n",
        "import itertools\n",
        "\n",
        "def plot_confusion_matrix(conf_mat, classes,\n",
        "                          normalize=False,\n",
        "                          title='Confusion matrix',\n",
        "                          cmap=plt.cm.Blues):\n",
        "  \"\"\"\n",
        "  This function prints and plots the confusion matrix.\n",
        "  Normalization can be applied by setting `normalize=True`.\n",
        "  \"\"\"\n",
        "  if normalize:\n",
        "      conf_mat = conf_mat.astype('float') / conf_mat.sum(axis=1)[:, np.newaxis]\n",
        "      print(\"Normalized confusion matrix\")\n",
        "  else:\n",
        "      print('Confusion matrix, without normalization')\n",
        "\n",
        "  print(conf_mat)\n",
        "\n",
        "  plt.imshow(conf_mat, interpolation='nearest', cmap=cmap)\n",
        "  plt.title(title)\n",
        "  plt.colorbar()\n",
        "  tick_marks = np.arange(len(classes))\n",
        "  plt.xticks(tick_marks, classes, rotation=45)\n",
        "  plt.yticks(tick_marks, classes)\n",
        "\n",
        "  fmt = '.2f' if normalize else 'd'\n",
        "  thresh = conf_mat.max() / 2.\n",
        "  for i, j in itertools.product(range(conf_mat.shape[0]), range(conf_mat.shape[1])):\n",
        "      plt.text(j, i, format(conf_mat[i, j], fmt),\n",
        "               horizontalalignment=\"center\",\n",
        "               color=\"white\" if conf_mat[i, j] > thresh else \"black\")\n",
        "\n",
        "  plt.tight_layout()\n",
        "  plt.xlabel('Predicted label')\n",
        "  plt.ylabel('True label')\n",
        "  plt.show()"
      ],
      "metadata": {
        "id": "jwONORU9kToz"
      },
      "execution_count": 16,
      "outputs": []
    },
    {
      "cell_type": "code",
      "source": [
        "# Plot the confusion matrix\n",
        "pred_test = model.predict(X_test).argmax(axis=1)\n",
        "conf_mat = confusion_matrix(y_test, pred_test)\n",
        "plot_confusion_matrix(conf_mat, list(range(10)))"
      ],
      "metadata": {
        "colab": {
          "base_uri": "https://localhost:8080/",
          "height": 502
        },
        "id": "6Z4hxsH0nCdT",
        "outputId": "339ba071-030a-432a-9b31-7db0fe900673"
      },
      "execution_count": 18,
      "outputs": [
        {
          "output_type": "stream",
          "name": "stdout",
          "text": [
            "Confusion matrix, without normalization\n",
            "[[700  30  38  20  24   6   6  15 110  51]\n",
            " [ 13 868   4   5   2   3   5   1  14  85]\n",
            " [ 47  14 552  75 120  75  58  30  19  10]\n",
            " [ 14  11  39 536  81 187  58  31  14  29]\n",
            " [  9   4  37  68 728  36  25  73  15   5]\n",
            " [  8   8  22 183  54 628  24  48  12  13]\n",
            " [  2  12  34  69  58  34 770   4  10   7]\n",
            " [ 10   6  25  38  56  50   9 778   5  23]\n",
            " [ 35  47   7  14   8   6   8   2 847  26]\n",
            " [ 15  93   5  10   6   9   4  13  27 818]]\n"
          ]
        },
        {
          "output_type": "display_data",
          "data": {
            "image/png": "[encoded data removed]",
            "text/plain": [
              "<Figure size 432x288 with 2 Axes>"
            ]
          },
          "metadata": {
            "needs_background": "light"
          }
        }
      ]
    },
    {
      "cell_type": "markdown",
      "source": [
        "## Show True-Classified and Misclassified Example"
      ],
      "metadata": {
        "id": "zeQQZgHDLjPn"
      }
    },
    {
      "cell_type": "code",
      "source": [
        "# label mapping\n",
        "labels = '''airplane\n",
        "automobile\n",
        "bird\n",
        "cat\n",
        "deer\n",
        "dog\n",
        "frog\n",
        "horse\n",
        "ship\n",
        "truck'''.split()"
      ],
      "metadata": {
        "id": "m8B7PzrMn627"
      },
      "execution_count": 19,
      "outputs": []
    },
    {
      "cell_type": "code",
      "source": [
        "# Show True-classified examples\n",
        "true_classified_idx = np.where(pred_test == y_test)[0]\n",
        "i = np.random.choice(true_classified_idx)\n",
        "plt.imshow(X_test[i], cmap=\"gray\")\n",
        "plt.title(\"True Label: %s, Predicted Label: %s\" % (labels[y_test[i]], labels[pred_test[i]]));"
      ],
      "metadata": {
        "colab": {
          "base_uri": "https://localhost:8080/",
          "height": 281
        },
        "id": "Ada0BNo7u1j9",
        "outputId": "7435c341-4a27-4a6a-eddf-1ebfae5f6b49"
      },
      "execution_count": 21,
      "outputs": [
        {
          "output_type": "display_data",
          "data": {
            "image/png": "[encoded data removed]",
            "text/plain": [
              "<Figure size 432x288 with 1 Axes>"
            ]
          },
          "metadata": {
            "needs_background": "light"
          }
        }
      ]
    },
    {
      "cell_type": "code",
      "source": [
        "# Show Misclassified examples\n",
        "misclassified_idx = np.where(pred_test != y_test)[0]\n",
        "i = np.random.choice(misclassified_idx)\n",
        "plt.imshow(X_test[i], cmap='gray')\n",
        "plt.title(\"True Label: %s, Predicted Label: %s\" % (labels[y_test[i]], labels[pred_test[i]]));"
      ],
      "metadata": {
        "colab": {
          "base_uri": "https://localhost:8080/",
          "height": 281
        },
        "id": "LPTtJVjvwJbi",
        "outputId": "5fc965e6-76d3-41be-8c6b-96a8f48159fa"
      },
      "execution_count": 28,
      "outputs": [
        {
          "output_type": "display_data",
          "data": {
            "image/png": "[encoded data removed]",
            "text/plain": [
              "<Figure size 432x288 with 1 Axes>"
            ]
          },
          "metadata": {
            "needs_background": "light"
          }
        }
      ]
    },
    {
      "cell_type": "code",
      "source": [
        ""
      ],
      "metadata": {
        "id": "PVejCKHMxLD2"
      },
      "execution_count": null,
      "outputs": []
    }
  ]
}