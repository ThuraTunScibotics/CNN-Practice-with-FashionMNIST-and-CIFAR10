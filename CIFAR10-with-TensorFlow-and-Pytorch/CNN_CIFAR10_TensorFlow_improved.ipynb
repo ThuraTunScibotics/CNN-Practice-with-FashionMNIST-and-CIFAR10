{
  "nbformat": 4,
  "nbformat_minor": 0,
  "metadata": {
    "colab": {
      "name": "CNN-CIFAR10-TensorFlow-improved.ipynb",
      "provenance": [],
      "collapsed_sections": []
    },
    "kernelspec": {
      "name": "python3",
      "display_name": "Python 3"
    },
    "language_info": {
      "name": "python"
    },
    "accelerator": "GPU"
  },
  "cells": [
    {
      "cell_type": "markdown",
      "source": [
        "## Import TensorFlow & other libs"
      ],
      "metadata": {
        "id": "D9P_ppb5VflI"
      }
    },
    {
      "cell_type": "code",
      "execution_count": null,
      "metadata": {
        "colab": {
          "base_uri": "https://localhost:8080/"
        },
        "id": "EydOu44Rdghd",
        "outputId": "aa5f9050-f65c-4a32-9fec-9e144b997268"
      },
      "outputs": [
        {
          "output_type": "stream",
          "name": "stdout",
          "text": [
            "2.8.0\n"
          ]
        }
      ],
      "source": [
        "# Import TensorFlow and other Libs\n",
        "import tensorflow as tf\n",
        "print(tf.__version__)"
      ]
    },
    {
      "cell_type": "code",
      "source": [
        "# Additional imports\n",
        "import numpy as np\n",
        "import pandas as pd\n",
        "import matplotlib.pyplot as plt\n",
        "from tensorflow.keras.layers import Input, Conv2D, Flatten, Dense, Dropout, GlobalMaxPooling2D, MaxPooling2D, BatchNormalization\n",
        "from tensorflow.keras.models import Model"
      ],
      "metadata": {
        "id": "No6vcmrwfRmK"
      },
      "execution_count": null,
      "outputs": []
    },
    {
      "cell_type": "markdown",
      "source": [
        "## Load the dataset"
      ],
      "metadata": {
        "id": "7QHn_3-6Vmbi"
      }
    },
    {
      "cell_type": "code",
      "source": [
        "# Load the dataset\n",
        "cifar10 = tf.keras.datasets.cifar10\n",
        "\n",
        "(X_train, y_train), (X_test, y_test) = cifar10.load_data()"
      ],
      "metadata": {
        "id": "S7xjGVKcghiN",
        "colab": {
          "base_uri": "https://localhost:8080/"
        },
        "outputId": "ff0d1f21-ae64-4a03-ec65-421ab23657d3"
      },
      "execution_count": null,
      "outputs": [
        {
          "output_type": "stream",
          "name": "stdout",
          "text": [
            "Downloading data from https://www.cs.toronto.edu/~kriz/cifar-10-python.tar.gz\n",
            "170500096/170498071 [==============================] - 3s 0us/step\n",
            "170508288/170498071 [==============================] - 3s 0us/step\n"
          ]
        }
      ]
    },
    {
      "cell_type": "code",
      "source": [
        "print(\"X_train.shape:\", X_train.shape)\n",
        "print(\"y_train.shape:\", y_train.shape)"
      ],
      "metadata": {
        "colab": {
          "base_uri": "https://localhost:8080/"
        },
        "id": "3s3OeKBthAV1",
        "outputId": "b58e8ff4-3272-4171-cd1a-d874b0b7dd80"
      },
      "execution_count": null,
      "outputs": [
        {
          "output_type": "stream",
          "name": "stdout",
          "text": [
            "X_train.shape: (50000, 32, 32, 3)\n",
            "y_train.shape: (50000, 1)\n"
          ]
        }
      ]
    },
    {
      "cell_type": "code",
      "source": [
        "X_train, X_test = X_train/255.0, X_test/255.0\n",
        "y_train, y_test = y_train.flatten(), y_test.flatten()"
      ],
      "metadata": {
        "id": "ryFJ3r-ZhRNv"
      },
      "execution_count": null,
      "outputs": []
    },
    {
      "cell_type": "code",
      "source": [
        "print(\"X_train.shape:\", X_train.shape)\n",
        "print(\"y_train.shape:\", y_train.shape)"
      ],
      "metadata": {
        "colab": {
          "base_uri": "https://localhost:8080/"
        },
        "id": "GvUfiuiWiFZP",
        "outputId": "fe1eca68-9c68-4174-cedc-fb43e1943e25"
      },
      "execution_count": null,
      "outputs": [
        {
          "output_type": "stream",
          "name": "stdout",
          "text": [
            "X_train.shape: (50000, 32, 32, 3)\n",
            "y_train.shape: (50000,)\n"
          ]
        }
      ]
    },
    {
      "cell_type": "code",
      "source": [
        "# number of classes\n",
        "k = len(set(y_train))\n",
        "print(\"number of classes:\", k)"
      ],
      "metadata": {
        "colab": {
          "base_uri": "https://localhost:8080/"
        },
        "id": "_ld33DC0imiK",
        "outputId": "b811a737-8718-45d4-9bf7-23884be0b68c"
      },
      "execution_count": null,
      "outputs": [
        {
          "output_type": "stream",
          "name": "stdout",
          "text": [
            "number of classes: 10\n"
          ]
        }
      ]
    },
    {
      "cell_type": "markdown",
      "source": [
        "## Build the model"
      ],
      "metadata": {
        "id": "rt8t2EmdV2Y4"
      }
    },
    {
      "cell_type": "code",
      "source": [
        "# Build the model using functional API\n",
        "# with IMPROVEMENT: BatchNormalization, DataAugmentation\n",
        "\n",
        "i = Input(shape=X_train[0].shape)\n",
        "\n",
        "x = Conv2D(32, (3, 3), activation='relu', padding='same')(i)\n",
        "x = BatchNormalization()(x)\n",
        "x = Conv2D(32, (3, 3), activation='relu', padding='same')(x)\n",
        "x = BatchNormalization()(x)\n",
        "x = MaxPooling2D((2, 2))(x)\n",
        "# x = Dropout(0.2)(x)\n",
        "\n",
        "x = Conv2D(64, (3, 3), activation='relu', padding='same')(x)\n",
        "x = BatchNormalization()(x)\n",
        "x = Conv2D(64, (3, 3), activation='relu', padding='same')(x)\n",
        "x = BatchNormalization()(x)\n",
        "x = MaxPooling2D((2, 2))(x)\n",
        "# x = Dropout(0.2)(x)\n",
        "\n",
        "x = Conv2D(128, (3, 3), activation='relu', padding='same')(x)\n",
        "x = BatchNormalization()(x)\n",
        "x = Conv2D(128, (3, 3), activation='relu', padding='same')(x)\n",
        "x = BatchNormalization()(x)\n",
        "x = MaxPooling2D((2, 2))(x)\n",
        "# x = Dropout(0.2)\n",
        "\n",
        "# x = GlobalMaxPooling2D()(x)\n",
        "x = Flatten()(x)\n",
        "x = Dropout(0.2)(x)\n",
        "x = Dense(1024, activation='relu')(x)\n",
        "x = Dropout(0.2)(x)\n",
        "x = Dense(k, activation='softmax')(x)\n",
        "\n",
        "model = Model(i, x)"
      ],
      "metadata": {
        "id": "edORpUhFizFE"
      },
      "execution_count": null,
      "outputs": []
    },
    {
      "cell_type": "markdown",
      "source": [
        "## Train the model"
      ],
      "metadata": {
        "id": "bWOTd2dnV6bp"
      }
    },
    {
      "cell_type": "code",
      "source": [
        "print(\"GPU\", \"Available Yesss!!!\" if tf.config.list_physical_devices(\"GPU\") else \"Not available! :(\")"
      ],
      "metadata": {
        "colab": {
          "base_uri": "https://localhost:8080/"
        },
        "id": "0IhWrLHptUFp",
        "outputId": "7d77029a-3e38-495b-e5a9-ba3d64aced6b"
      },
      "execution_count": null,
      "outputs": [
        {
          "output_type": "stream",
          "name": "stdout",
          "text": [
            "GPU Available Yesss!!!\n"
          ]
        }
      ]
    },
    {
      "cell_type": "code",
      "source": [
        "## Compile and Fit the model\n",
        "# Note: make sure you are using the GPU for this:\n",
        "# Compile\n",
        "model.compile(optimizer=\"adam\",\n",
        "              loss=\"sparse_categorical_crossentropy\",\n",
        "              metrics=['accuracy'])\n",
        "\n",
        "# Fit\n",
        "r = model.fit(X_train, y_train, validation_data=(X_test, y_test), epochs=50)"
      ],
      "metadata": {
        "colab": {
          "base_uri": "https://localhost:8080/"
        },
        "id": "DA07RqZIp_pJ",
        "outputId": "277dc772-14d1-46ce-b47c-85150b1cbb36"
      },
      "execution_count": null,
      "outputs": [
        {
          "output_type": "stream",
          "name": "stdout",
          "text": [
            "Epoch 1/50\n",
            "1563/1563 [==============================] - 31s 19ms/step - loss: 1.2492 - accuracy: 0.5724 - val_loss: 1.3044 - val_accuracy: 0.5463\n",
            "Epoch 2/50\n",
            "1563/1563 [==============================] - 30s 19ms/step - loss: 0.8273 - accuracy: 0.7135 - val_loss: 0.8218 - val_accuracy: 0.7218\n",
            "Epoch 3/50\n",
            "1563/1563 [==============================] - 30s 19ms/step - loss: 0.6839 - accuracy: 0.7664 - val_loss: 0.7303 - val_accuracy: 0.7479\n",
            "Epoch 4/50\n",
            "1563/1563 [==============================] - 29s 19ms/step - loss: 0.5772 - accuracy: 0.7996 - val_loss: 0.6482 - val_accuracy: 0.7793\n",
            "Epoch 5/50\n",
            "1563/1563 [==============================] - 29s 18ms/step - loss: 0.4818 - accuracy: 0.8341 - val_loss: 0.8637 - val_accuracy: 0.7354\n",
            "Epoch 6/50\n",
            "1563/1563 [==============================] - 30s 19ms/step - loss: 0.4130 - accuracy: 0.8570 - val_loss: 0.5822 - val_accuracy: 0.8069\n",
            "Epoch 7/50\n",
            "1563/1563 [==============================] - 30s 20ms/step - loss: 0.3487 - accuracy: 0.8790 - val_loss: 0.6744 - val_accuracy: 0.7871\n",
            "Epoch 8/50\n",
            "1563/1563 [==============================] - 30s 19ms/step - loss: 0.3043 - accuracy: 0.8949 - val_loss: 0.6088 - val_accuracy: 0.8134\n",
            "Epoch 9/50\n",
            "1563/1563 [==============================] - 30s 19ms/step - loss: 0.2580 - accuracy: 0.9095 - val_loss: 0.6228 - val_accuracy: 0.8170\n",
            "Epoch 10/50\n",
            "1563/1563 [==============================] - 30s 19ms/step - loss: 0.2203 - accuracy: 0.9244 - val_loss: 0.6257 - val_accuracy: 0.8202\n",
            "Epoch 11/50\n",
            "1563/1563 [==============================] - 30s 19ms/step - loss: 0.1926 - accuracy: 0.9351 - val_loss: 0.6654 - val_accuracy: 0.8173\n",
            "Epoch 12/50\n",
            "1563/1563 [==============================] - 29s 18ms/step - loss: 0.1751 - accuracy: 0.9405 - val_loss: 0.7190 - val_accuracy: 0.8182\n",
            "Epoch 13/50\n",
            "1563/1563 [==============================] - 29s 18ms/step - loss: 0.1610 - accuracy: 0.9466 - val_loss: 0.6761 - val_accuracy: 0.8178\n",
            "Epoch 14/50\n",
            "1563/1563 [==============================] - 29s 18ms/step - loss: 0.1444 - accuracy: 0.9508 - val_loss: 0.7201 - val_accuracy: 0.8252\n",
            "Epoch 15/50\n",
            "1563/1563 [==============================] - 29s 18ms/step - loss: 0.1323 - accuracy: 0.9551 - val_loss: 0.6626 - val_accuracy: 0.8260\n",
            "Epoch 16/50\n",
            "1563/1563 [==============================] - 30s 19ms/step - loss: 0.1195 - accuracy: 0.9592 - val_loss: 0.7568 - val_accuracy: 0.8301\n",
            "Epoch 17/50\n",
            "1563/1563 [==============================] - 30s 19ms/step - loss: 0.1141 - accuracy: 0.9614 - val_loss: 0.7688 - val_accuracy: 0.8238\n",
            "Epoch 18/50\n",
            "1563/1563 [==============================] - 30s 19ms/step - loss: 0.1073 - accuracy: 0.9638 - val_loss: 1.2833 - val_accuracy: 0.7483\n",
            "Epoch 19/50\n",
            "1563/1563 [==============================] - 30s 19ms/step - loss: 0.1012 - accuracy: 0.9672 - val_loss: 0.7834 - val_accuracy: 0.8225\n",
            "Epoch 20/50\n",
            "1563/1563 [==============================] - 30s 19ms/step - loss: 0.1006 - accuracy: 0.9658 - val_loss: 0.7830 - val_accuracy: 0.8374\n",
            "Epoch 21/50\n",
            "1563/1563 [==============================] - 29s 18ms/step - loss: 0.0923 - accuracy: 0.9686 - val_loss: 0.7253 - val_accuracy: 0.8294\n",
            "Epoch 22/50\n",
            "1563/1563 [==============================] - 30s 19ms/step - loss: 0.0803 - accuracy: 0.9730 - val_loss: 0.8830 - val_accuracy: 0.8406\n",
            "Epoch 23/50\n",
            "1563/1563 [==============================] - 30s 19ms/step - loss: 0.0863 - accuracy: 0.9720 - val_loss: 0.7663 - val_accuracy: 0.8275\n",
            "Epoch 24/50\n",
            "1563/1563 [==============================] - 30s 19ms/step - loss: 0.0775 - accuracy: 0.9742 - val_loss: 0.7498 - val_accuracy: 0.8417\n",
            "Epoch 25/50\n",
            "1563/1563 [==============================] - 29s 18ms/step - loss: 0.0761 - accuracy: 0.9748 - val_loss: 0.7737 - val_accuracy: 0.8346\n",
            "Epoch 26/50\n",
            "1563/1563 [==============================] - 29s 18ms/step - loss: 0.0729 - accuracy: 0.9762 - val_loss: 0.7466 - val_accuracy: 0.8253\n",
            "Epoch 27/50\n",
            "1563/1563 [==============================] - 30s 19ms/step - loss: 0.0716 - accuracy: 0.9771 - val_loss: 0.8263 - val_accuracy: 0.8370\n",
            "Epoch 28/50\n",
            "1563/1563 [==============================] - 31s 20ms/step - loss: 0.0671 - accuracy: 0.9780 - val_loss: 0.7982 - val_accuracy: 0.8324\n",
            "Epoch 29/50\n",
            "1563/1563 [==============================] - 29s 19ms/step - loss: 0.0642 - accuracy: 0.9790 - val_loss: 0.8714 - val_accuracy: 0.8405\n",
            "Epoch 30/50\n",
            "1563/1563 [==============================] - 29s 18ms/step - loss: 0.0626 - accuracy: 0.9796 - val_loss: 0.7588 - val_accuracy: 0.8339\n",
            "Epoch 31/50\n",
            "1563/1563 [==============================] - 30s 19ms/step - loss: 0.0589 - accuracy: 0.9806 - val_loss: 0.8032 - val_accuracy: 0.8390\n",
            "Epoch 32/50\n",
            "1563/1563 [==============================] - 30s 19ms/step - loss: 0.0623 - accuracy: 0.9802 - val_loss: 0.7419 - val_accuracy: 0.8390\n",
            "Epoch 33/50\n",
            "1563/1563 [==============================] - 29s 18ms/step - loss: 0.0559 - accuracy: 0.9816 - val_loss: 0.8584 - val_accuracy: 0.8484\n",
            "Epoch 34/50\n",
            "1563/1563 [==============================] - 29s 18ms/step - loss: 0.0583 - accuracy: 0.9811 - val_loss: 0.8461 - val_accuracy: 0.8387\n",
            "Epoch 35/50\n",
            "1563/1563 [==============================] - 29s 18ms/step - loss: 0.0542 - accuracy: 0.9824 - val_loss: 0.7066 - val_accuracy: 0.8431\n",
            "Epoch 36/50\n",
            "1563/1563 [==============================] - 30s 19ms/step - loss: 0.0512 - accuracy: 0.9827 - val_loss: 0.9082 - val_accuracy: 0.8318\n",
            "Epoch 37/50\n",
            "1563/1563 [==============================] - 29s 18ms/step - loss: 0.0536 - accuracy: 0.9824 - val_loss: 0.8248 - val_accuracy: 0.8420\n",
            "Epoch 38/50\n",
            "1563/1563 [==============================] - 30s 19ms/step - loss: 0.0520 - accuracy: 0.9830 - val_loss: 0.8176 - val_accuracy: 0.8368\n",
            "Epoch 39/50\n",
            "1563/1563 [==============================] - 30s 19ms/step - loss: 0.0466 - accuracy: 0.9850 - val_loss: 0.7768 - val_accuracy: 0.8427\n",
            "Epoch 40/50\n",
            "1563/1563 [==============================] - 30s 19ms/step - loss: 0.0498 - accuracy: 0.9839 - val_loss: 0.8166 - val_accuracy: 0.8439\n",
            "Epoch 41/50\n",
            "1563/1563 [==============================] - 29s 19ms/step - loss: 0.0439 - accuracy: 0.9857 - val_loss: 0.7979 - val_accuracy: 0.8424\n",
            "Epoch 42/50\n",
            "1563/1563 [==============================] - 30s 19ms/step - loss: 0.0473 - accuracy: 0.9849 - val_loss: 0.9097 - val_accuracy: 0.8430\n",
            "Epoch 43/50\n",
            "1563/1563 [==============================] - 29s 19ms/step - loss: 0.0464 - accuracy: 0.9855 - val_loss: 0.8418 - val_accuracy: 0.8403\n",
            "Epoch 44/50\n",
            "1563/1563 [==============================] - 29s 19ms/step - loss: 0.0507 - accuracy: 0.9836 - val_loss: 0.8286 - val_accuracy: 0.8429\n",
            "Epoch 45/50\n",
            "1563/1563 [==============================] - 29s 19ms/step - loss: 0.0399 - accuracy: 0.9877 - val_loss: 0.9213 - val_accuracy: 0.8413\n",
            "Epoch 46/50\n",
            "1563/1563 [==============================] - 30s 19ms/step - loss: 0.0445 - accuracy: 0.9857 - val_loss: 0.9057 - val_accuracy: 0.8397\n",
            "Epoch 47/50\n",
            "1563/1563 [==============================] - 30s 19ms/step - loss: 0.0428 - accuracy: 0.9856 - val_loss: 0.9979 - val_accuracy: 0.8283\n",
            "Epoch 48/50\n",
            "1563/1563 [==============================] - 29s 19ms/step - loss: 0.0394 - accuracy: 0.9876 - val_loss: 0.8924 - val_accuracy: 0.8427\n",
            "Epoch 49/50\n",
            "1563/1563 [==============================] - 29s 19ms/step - loss: 0.0423 - accuracy: 0.9863 - val_loss: 1.0488 - val_accuracy: 0.8286\n",
            "Epoch 50/50\n",
            "1563/1563 [==============================] - 29s 19ms/step - loss: 0.0412 - accuracy: 0.9871 - val_loss: 0.8318 - val_accuracy: 0.8321\n"
          ]
        }
      ]
    },
    {
      "cell_type": "markdown",
      "source": [
        "### Improved the result with Data Augmentation"
      ],
      "metadata": {
        "id": "6Hkf-FSeWEKI"
      }
    },
    {
      "cell_type": "code",
      "source": [
        "# Fit with Data Augmentation\n",
        "# Note: if you run this AFTER calling the previous model.fit() it will continue training where it left off\n",
        "batch_size = 32\n",
        "data_generator = tf.keras.preprocessing.image.ImageDataGenerator(width_shift_range=0.1, height_shift_range=0.1, horizontal_flip=True)\n",
        "train_generator = data_generator.flow(X_train, y_train, batch_size)\n",
        "steps_per_epoch = X_train.shape[0] // batch_size\n",
        "r = model.fit_generator(train_generator, validation_data=(X_test, y_test), steps_per_epoch=steps_per_epoch, epochs=50)"
      ],
      "metadata": {
        "colab": {
          "base_uri": "https://localhost:8080/"
        },
        "id": "zrYVOeuquig5",
        "outputId": "d72f1c88-2daf-4b24-fd7a-25becf4eabef"
      },
      "execution_count": null,
      "outputs": [
        {
          "output_type": "stream",
          "name": "stdout",
          "text": [
            "Epoch 1/50\n"
          ]
        },
        {
          "output_type": "stream",
          "name": "stderr",
          "text": [
            "/usr/local/lib/python3.7/dist-packages/ipykernel_launcher.py:7: UserWarning: `Model.fit_generator` is deprecated and will be removed in a future version. Please use `Model.fit`, which supports generators.\n",
            "  import sys\n"
          ]
        },
        {
          "output_type": "stream",
          "name": "stdout",
          "text": [
            "1562/1562 [==============================] - 50s 32ms/step - loss: 0.5397 - accuracy: 0.8273 - val_loss: 0.5190 - val_accuracy: 0.8306\n",
            "Epoch 2/50\n",
            "1562/1562 [==============================] - 50s 32ms/step - loss: 0.4309 - accuracy: 0.8594 - val_loss: 0.4637 - val_accuracy: 0.8503\n",
            "Epoch 3/50\n",
            "1562/1562 [==============================] - 51s 32ms/step - loss: 0.4022 - accuracy: 0.8676 - val_loss: 0.4919 - val_accuracy: 0.8398\n",
            "Epoch 4/50\n",
            "1562/1562 [==============================] - 51s 33ms/step - loss: 0.3799 - accuracy: 0.8735 - val_loss: 0.4743 - val_accuracy: 0.8527\n",
            "Epoch 5/50\n",
            "1562/1562 [==============================] - 50s 32ms/step - loss: 0.3599 - accuracy: 0.8798 - val_loss: 0.5347 - val_accuracy: 0.8427\n",
            "Epoch 6/50\n",
            "1562/1562 [==============================] - 50s 32ms/step - loss: 0.3520 - accuracy: 0.8822 - val_loss: 0.4306 - val_accuracy: 0.8603\n",
            "Epoch 7/50\n",
            "1562/1562 [==============================] - 50s 32ms/step - loss: 0.3330 - accuracy: 0.8875 - val_loss: 0.4356 - val_accuracy: 0.8631\n",
            "Epoch 8/50\n",
            "1562/1562 [==============================] - 50s 32ms/step - loss: 0.3261 - accuracy: 0.8909 - val_loss: 0.4674 - val_accuracy: 0.8549\n",
            "Epoch 9/50\n",
            "1562/1562 [==============================] - 50s 32ms/step - loss: 0.3148 - accuracy: 0.8934 - val_loss: 0.4237 - val_accuracy: 0.8611\n",
            "Epoch 10/50\n",
            "1562/1562 [==============================] - 50s 32ms/step - loss: 0.3052 - accuracy: 0.8973 - val_loss: 0.4327 - val_accuracy: 0.8657\n",
            "Epoch 11/50\n",
            "1562/1562 [==============================] - 50s 32ms/step - loss: 0.3025 - accuracy: 0.8971 - val_loss: 0.4425 - val_accuracy: 0.8636\n",
            "Epoch 12/50\n",
            "1562/1562 [==============================] - 51s 32ms/step - loss: 0.2868 - accuracy: 0.9037 - val_loss: 0.5101 - val_accuracy: 0.8505\n",
            "Epoch 13/50\n",
            "1562/1562 [==============================] - 50s 32ms/step - loss: 0.2808 - accuracy: 0.9062 - val_loss: 0.5016 - val_accuracy: 0.8487\n",
            "Epoch 14/50\n",
            "1562/1562 [==============================] - 50s 32ms/step - loss: 0.2780 - accuracy: 0.9062 - val_loss: 0.3910 - val_accuracy: 0.8778\n",
            "Epoch 15/50\n",
            "1562/1562 [==============================] - 50s 32ms/step - loss: 0.2634 - accuracy: 0.9098 - val_loss: 0.4276 - val_accuracy: 0.8707\n",
            "Epoch 16/50\n",
            "1562/1562 [==============================] - 50s 32ms/step - loss: 0.2620 - accuracy: 0.9113 - val_loss: 0.4004 - val_accuracy: 0.8750\n",
            "Epoch 17/50\n",
            "1562/1562 [==============================] - 50s 32ms/step - loss: 0.2603 - accuracy: 0.9117 - val_loss: 0.4502 - val_accuracy: 0.8603\n",
            "Epoch 18/50\n",
            "1562/1562 [==============================] - 51s 32ms/step - loss: 0.2497 - accuracy: 0.9144 - val_loss: 0.4279 - val_accuracy: 0.8681\n",
            "Epoch 19/50\n",
            "1562/1562 [==============================] - 51s 32ms/step - loss: 0.2446 - accuracy: 0.9176 - val_loss: 0.4110 - val_accuracy: 0.8743\n",
            "Epoch 20/50\n",
            "1562/1562 [==============================] - 51s 32ms/step - loss: 0.2433 - accuracy: 0.9177 - val_loss: 0.4198 - val_accuracy: 0.8721\n",
            "Epoch 21/50\n",
            "1562/1562 [==============================] - 50s 32ms/step - loss: 0.2397 - accuracy: 0.9200 - val_loss: 0.4115 - val_accuracy: 0.8723\n",
            "Epoch 22/50\n",
            "1562/1562 [==============================] - 50s 32ms/step - loss: 0.2388 - accuracy: 0.9187 - val_loss: 0.3995 - val_accuracy: 0.8707\n",
            "Epoch 23/50\n",
            "1562/1562 [==============================] - 49s 31ms/step - loss: 0.2306 - accuracy: 0.9217 - val_loss: 0.4252 - val_accuracy: 0.8702\n",
            "Epoch 24/50\n",
            "1562/1562 [==============================] - 51s 32ms/step - loss: 0.2254 - accuracy: 0.9242 - val_loss: 0.4125 - val_accuracy: 0.8754\n",
            "Epoch 25/50\n",
            "1562/1562 [==============================] - 50s 32ms/step - loss: 0.2204 - accuracy: 0.9250 - val_loss: 0.4180 - val_accuracy: 0.8741\n",
            "Epoch 26/50\n",
            "1562/1562 [==============================] - 50s 32ms/step - loss: 0.2189 - accuracy: 0.9258 - val_loss: 0.4035 - val_accuracy: 0.8797\n",
            "Epoch 27/50\n",
            "1562/1562 [==============================] - 50s 32ms/step - loss: 0.2198 - accuracy: 0.9261 - val_loss: 0.4006 - val_accuracy: 0.8788\n",
            "Epoch 28/50\n",
            "1562/1562 [==============================] - 50s 32ms/step - loss: 0.2167 - accuracy: 0.9274 - val_loss: 0.4305 - val_accuracy: 0.8740\n",
            "Epoch 29/50\n",
            "1562/1562 [==============================] - 50s 32ms/step - loss: 0.2147 - accuracy: 0.9267 - val_loss: 0.4241 - val_accuracy: 0.8772\n",
            "Epoch 30/50\n",
            "1562/1562 [==============================] - 50s 32ms/step - loss: 0.2027 - accuracy: 0.9312 - val_loss: 0.4065 - val_accuracy: 0.8757\n",
            "Epoch 31/50\n",
            "1562/1562 [==============================] - 51s 32ms/step - loss: 0.1968 - accuracy: 0.9333 - val_loss: 0.4686 - val_accuracy: 0.8696\n",
            "Epoch 32/50\n",
            "1562/1562 [==============================] - 51s 32ms/step - loss: 0.2019 - accuracy: 0.9309 - val_loss: 0.4154 - val_accuracy: 0.8680\n",
            "Epoch 33/50\n",
            "1562/1562 [==============================] - 51s 33ms/step - loss: 0.1952 - accuracy: 0.9343 - val_loss: 0.3949 - val_accuracy: 0.8795\n",
            "Epoch 34/50\n",
            "1562/1562 [==============================] - 50s 32ms/step - loss: 0.1938 - accuracy: 0.9348 - val_loss: 0.4056 - val_accuracy: 0.8758\n",
            "Epoch 35/50\n",
            "1562/1562 [==============================] - 50s 32ms/step - loss: 0.1953 - accuracy: 0.9342 - val_loss: 0.4167 - val_accuracy: 0.8763\n",
            "Epoch 36/50\n",
            "1562/1562 [==============================] - 49s 32ms/step - loss: 0.1890 - accuracy: 0.9365 - val_loss: 0.4790 - val_accuracy: 0.8755\n",
            "Epoch 37/50\n",
            "1562/1562 [==============================] - 50s 32ms/step - loss: 0.1932 - accuracy: 0.9345 - val_loss: 0.4153 - val_accuracy: 0.8754\n",
            "Epoch 38/50\n",
            "1562/1562 [==============================] - 50s 32ms/step - loss: 0.1853 - accuracy: 0.9372 - val_loss: 0.4008 - val_accuracy: 0.8846\n",
            "Epoch 39/50\n",
            "1562/1562 [==============================] - 50s 32ms/step - loss: 0.1884 - accuracy: 0.9360 - val_loss: 0.4093 - val_accuracy: 0.8830\n",
            "Epoch 40/50\n",
            "1562/1562 [==============================] - 49s 32ms/step - loss: 0.1858 - accuracy: 0.9371 - val_loss: 0.4091 - val_accuracy: 0.8762\n",
            "Epoch 41/50\n",
            "1562/1562 [==============================] - 49s 32ms/step - loss: 0.1800 - accuracy: 0.9380 - val_loss: 0.5000 - val_accuracy: 0.8670\n",
            "Epoch 42/50\n",
            "1562/1562 [==============================] - 49s 32ms/step - loss: 0.1806 - accuracy: 0.9389 - val_loss: 0.4506 - val_accuracy: 0.8736\n",
            "Epoch 43/50\n",
            "1562/1562 [==============================] - 49s 31ms/step - loss: 0.1762 - accuracy: 0.9395 - val_loss: 0.4337 - val_accuracy: 0.8819\n",
            "Epoch 44/50\n",
            "1562/1562 [==============================] - 49s 32ms/step - loss: 0.1756 - accuracy: 0.9408 - val_loss: 0.4396 - val_accuracy: 0.8853\n",
            "Epoch 45/50\n",
            "1562/1562 [==============================] - 50s 32ms/step - loss: 0.1721 - accuracy: 0.9415 - val_loss: 0.4149 - val_accuracy: 0.8784\n",
            "Epoch 46/50\n",
            "1562/1562 [==============================] - 50s 32ms/step - loss: 0.1735 - accuracy: 0.9424 - val_loss: 0.4052 - val_accuracy: 0.8853\n",
            "Epoch 47/50\n",
            "1562/1562 [==============================] - 50s 32ms/step - loss: 0.1728 - accuracy: 0.9412 - val_loss: 0.4159 - val_accuracy: 0.8871\n",
            "Epoch 48/50\n",
            "1562/1562 [==============================] - 49s 32ms/step - loss: 0.1683 - accuracy: 0.9429 - val_loss: 0.4904 - val_accuracy: 0.8752\n",
            "Epoch 49/50\n",
            "1562/1562 [==============================] - 49s 32ms/step - loss: 0.1686 - accuracy: 0.9432 - val_loss: 0.4489 - val_accuracy: 0.8746\n",
            "Epoch 50/50\n",
            "1562/1562 [==============================] - 49s 31ms/step - loss: 0.1627 - accuracy: 0.9454 - val_loss: 0.4242 - val_accuracy: 0.8833\n"
          ]
        }
      ]
    },
    {
      "cell_type": "markdown",
      "source": [
        "## Evaluate the model"
      ],
      "metadata": {
        "id": "4U6OlPshWO_U"
      }
    },
    {
      "cell_type": "code",
      "source": [
        "# Plot loss per iteration\n",
        "plt.plot(r.history['loss'], label=\"loss\")\n",
        "plt.plot(r.history['val_loss'], label=\"val_loss\")\n",
        "plt.legend()"
      ],
      "metadata": {
        "colab": {
          "base_uri": "https://localhost:8080/",
          "height": 282
        },
        "id": "N6FPawXB7rZY",
        "outputId": "da1f6796-3a45-46b3-f10e-1465b311e8b7"
      },
      "execution_count": null,
      "outputs": [
        {
          "output_type": "execute_result",
          "data": {
            "text/plain": [
              "<matplotlib.legend.Legend at 0x7fc98dc47410>"
            ]
          },
          "metadata": {},
          "execution_count": 18
        },
        {
          "output_type": "display_data",
          "data": {
            "image/png": "[encoded data removed]",
            "text/plain": [
              "<Figure size 432x288 with 1 Axes>"
            ]
          },
          "metadata": {
            "needs_background": "light"
          }
        }
      ]
    },
    {
      "cell_type": "code",
      "source": [
        "# Plot accuracy per iteration\n",
        "plt.plot(r.history['accuracy'], label='accuracy')\n",
        "plt.plot(r.history['val_accuracy'], label='val_accuracy')\n",
        "plt.legend()"
      ],
      "metadata": {
        "colab": {
          "base_uri": "https://localhost:8080/",
          "height": 282
        },
        "id": "Gp2Cu428OANt",
        "outputId": "f1954940-31d0-4b3d-e5a9-07bcf6ebcfb9"
      },
      "execution_count": null,
      "outputs": [
        {
          "output_type": "execute_result",
          "data": {
            "text/plain": [
              "<matplotlib.legend.Legend at 0x7fc98dcc98d0>"
            ]
          },
          "metadata": {},
          "execution_count": 19
        },
        {
          "output_type": "display_data",
          "data": {
            "image/png": "[encoded data removed]",
            "text/plain": [
              "<Figure size 432x288 with 1 Axes>"
            ]
          },
          "metadata": {
            "needs_background": "light"
          }
        }
      ]
    },
    {
      "cell_type": "code",
      "source": [
        "# Confusion Matrix Function\n",
        "from sklearn.metrics import confusion_matrix\n",
        "import itertools\n",
        "\n",
        "def plot_confusion_matrix(conf_mat, classes,\n",
        "                          normalize=False,\n",
        "                          title='Confusion matrix',\n",
        "                          cmap=plt.cm.Blues):\n",
        "  \"\"\"\n",
        "  This function prints and plots the confusion matrix.\n",
        "  Normalization can be applied by setting `normalize=True`.\n",
        "  \"\"\"\n",
        "  if normalize:\n",
        "      conf_mat = conf_mat.astype('float') / conf_mat.sum(axis=1)[:, np.newaxis]\n",
        "      print(\"Normalized confusion matrix\")\n",
        "  else:\n",
        "      print('Confusion matrix, without normalization')\n",
        "\n",
        "  print(conf_mat)\n",
        "\n",
        "  plt.imshow(conf_mat, interpolation='nearest', cmap=cmap)\n",
        "  plt.title(title)\n",
        "  plt.colorbar()\n",
        "  tick_marks = np.arange(len(classes))\n",
        "  plt.xticks(tick_marks, classes, rotation=45)\n",
        "  plt.yticks(tick_marks, classes)\n",
        "\n",
        "  fmt = '.2f' if normalize else 'd'\n",
        "  thresh = conf_mat.max() / 2.\n",
        "  for i, j in itertools.product(range(conf_mat.shape[0]), range(conf_mat.shape[1])):\n",
        "      plt.text(j, i, format(conf_mat[i, j], fmt),\n",
        "               horizontalalignment=\"center\",\n",
        "               color=\"white\" if conf_mat[i, j] > thresh else \"black\")\n",
        "\n",
        "  plt.tight_layout()\n",
        "  plt.ylabel('True label')\n",
        "  plt.xlabel('Predicted label')\n",
        "  plt.show()"
      ],
      "metadata": {
        "id": "2-GkTkE4OyVh"
      },
      "execution_count": null,
      "outputs": []
    },
    {
      "cell_type": "code",
      "source": [
        "# Plot Confusion Matrix\n",
        "pred_test = model.predict(X_test).argmax(axis=1)\n",
        "conf_mat = confusion_matrix(y_test, pred_test)\n",
        "plot_confusion_matrix(conf_mat, list(range(k)))"
      ],
      "metadata": {
        "colab": {
          "base_uri": "https://localhost:8080/",
          "height": 502
        },
        "id": "QpIJi0BQRaOh",
        "outputId": "c97366b2-c2cc-4cab-a836-d3b80ec372e2"
      },
      "execution_count": null,
      "outputs": [
        {
          "output_type": "stream",
          "name": "stdout",
          "text": [
            "Confusion matrix, without normalization\n",
            "[[933   9   8   6   6   2   3   4  22   7]\n",
            " [  5 969   2   1   1   0   1   1   5  15]\n",
            " [ 38   2 787  28  42  25  53  15   5   5]\n",
            " [ 12   1  21 743  29  89  68  23   5   9]\n",
            " [ 11   1  14  22 882  10  33  23   4   0]\n",
            " [ 11   1  12  84  31 811  24  23   0   3]\n",
            " [  4   0  10  20   6   4 953   0   2   1]\n",
            " [  9   1   7  15  31  16   4 914   1   2]\n",
            " [ 42  10   2   4   2   2   4   2 920  12]\n",
            " [  9  52   0   2   1   1   1   1  12 921]]\n"
          ]
        },
        {
          "output_type": "display_data",
          "data": {
            "image/png": "[encoded data removed]",
            "text/plain": [
              "<Figure size 432x288 with 2 Axes>"
            ]
          },
          "metadata": {
            "needs_background": "light"
          }
        }
      ]
    },
    {
      "cell_type": "code",
      "source": [
        "# As the model is large, it is useful to summarize\n",
        "model.summary()"
      ],
      "metadata": {
        "colab": {
          "base_uri": "https://localhost:8080/"
        },
        "id": "cMV0geZwTaNR",
        "outputId": "7b887e4c-6ef8-4931-b3c7-5d6159fbd7b4"
      },
      "execution_count": null,
      "outputs": [
        {
          "output_type": "stream",
          "name": "stdout",
          "text": [
            "Model: \"model_1\"\n",
            "_________________________________________________________________\n",
            " Layer (type)                Output Shape              Param #   \n",
            "=================================================================\n",
            " input_2 (InputLayer)        [(None, 32, 32, 3)]       0         \n",
            "                                                                 \n",
            " conv2d_6 (Conv2D)           (None, 32, 32, 32)        896       \n",
            "                                                                 \n",
            " batch_normalization_6 (Batc  (None, 32, 32, 32)       128       \n",
            " hNormalization)                                                 \n",
            "                                                                 \n",
            " conv2d_7 (Conv2D)           (None, 32, 32, 32)        9248      \n",
            "                                                                 \n",
            " batch_normalization_7 (Batc  (None, 32, 32, 32)       128       \n",
            " hNormalization)                                                 \n",
            "                                                                 \n",
            " max_pooling2d_3 (MaxPooling  (None, 16, 16, 32)       0         \n",
            " 2D)                                                             \n",
            "                                                                 \n",
            " conv2d_8 (Conv2D)           (None, 16, 16, 64)        18496     \n",
            "                                                                 \n",
            " batch_normalization_8 (Batc  (None, 16, 16, 64)       256       \n",
            " hNormalization)                                                 \n",
            "                                                                 \n",
            " conv2d_9 (Conv2D)           (None, 16, 16, 64)        36928     \n",
            "                                                                 \n",
            " batch_normalization_9 (Batc  (None, 16, 16, 64)       256       \n",
            " hNormalization)                                                 \n",
            "                                                                 \n",
            " max_pooling2d_4 (MaxPooling  (None, 8, 8, 64)         0         \n",
            " 2D)                                                             \n",
            "                                                                 \n",
            " conv2d_10 (Conv2D)          (None, 8, 8, 128)         73856     \n",
            "                                                                 \n",
            " batch_normalization_10 (Bat  (None, 8, 8, 128)        512       \n",
            " chNormalization)                                                \n",
            "                                                                 \n",
            " conv2d_11 (Conv2D)          (None, 8, 8, 128)         147584    \n",
            "                                                                 \n",
            " batch_normalization_11 (Bat  (None, 8, 8, 128)        512       \n",
            " chNormalization)                                                \n",
            "                                                                 \n",
            " max_pooling2d_5 (MaxPooling  (None, 4, 4, 128)        0         \n",
            " 2D)                                                             \n",
            "                                                                 \n",
            " flatten_1 (Flatten)         (None, 2048)              0         \n",
            "                                                                 \n",
            " dropout_4 (Dropout)         (None, 2048)              0         \n",
            "                                                                 \n",
            " dense_2 (Dense)             (None, 1024)              2098176   \n",
            "                                                                 \n",
            " dropout_5 (Dropout)         (None, 1024)              0         \n",
            "                                                                 \n",
            " dense_3 (Dense)             (None, 10)                10250     \n",
            "                                                                 \n",
            "=================================================================\n",
            "Total params: 2,397,226\n",
            "Trainable params: 2,396,330\n",
            "Non-trainable params: 896\n",
            "_________________________________________________________________\n"
          ]
        }
      ]
    },
    {
      "cell_type": "markdown",
      "source": [
        "## Predicted result: check True-classified example and Misclassified example"
      ],
      "metadata": {
        "id": "Y7BUvvAHWZfk"
      }
    },
    {
      "cell_type": "code",
      "source": [
        "# label mapping\n",
        "labels = '''airplane\n",
        "automobile\n",
        "bird\n",
        "cat\n",
        "deer\n",
        "dog\n",
        "frog\n",
        "horse\n",
        "ship\n",
        "truck'''.split()"
      ],
      "metadata": {
        "id": "VlI_DzlTUWTw"
      },
      "execution_count": null,
      "outputs": []
    },
    {
      "cell_type": "code",
      "source": [
        "# Show True-classiied Example\n",
        "true_classified_idx = np.where(pred_test == y_test)[0]\n",
        "i = np.random.choice(true_classified_idx)\n",
        "plt.imshow(X_test[i], cmap='gray')\n",
        "plt.title(\"True label: %s, Predicted label: %s\" % (labels[y_test[i]], labels[pred_test[i]]));"
      ],
      "metadata": {
        "colab": {
          "base_uri": "https://localhost:8080/",
          "height": 281
        },
        "id": "cIo1MBg1Xiwd",
        "outputId": "a308bb36-7d0e-4d6d-a2c5-318ee644f852"
      },
      "execution_count": null,
      "outputs": [
        {
          "output_type": "display_data",
          "data": {
            "image/png": "[encoded data removed]",
            "text/plain": [
              "<Figure size 432x288 with 1 Axes>"
            ]
          },
          "metadata": {
            "needs_background": "light"
          }
        }
      ]
    },
    {
      "cell_type": "code",
      "source": [
        "# Mis-classified Example\n",
        "misclassified_idx = np.where(pred_test != y_test)[0]\n",
        "i = np.random.choice(misclassified_idx)\n",
        "plt.imshow(X_test[i], cmap='gray')\n",
        "plt.title(\"True label: %s, Predicted  label: %s\" % (labels[y_test[i]], labels[pred_test[i]]));"
      ],
      "metadata": {
        "colab": {
          "base_uri": "https://localhost:8080/",
          "height": 281
        },
        "id": "1qKYB35JegVz",
        "outputId": "51dd021c-2c12-40a2-b142-e71608263183"
      },
      "execution_count": null,
      "outputs": [
        {
          "output_type": "display_data",
          "data": {
            "image/png": "[encoded data removed]",
            "text/plain": [
              "<Figure size 432x288 with 1 Axes>"
            ]
          },
          "metadata": {
            "needs_background": "light"
          }
        }
      ]
    },
    {
      "cell_type": "code",
      "source": [
        ""
      ],
      "metadata": {
        "id": "5rUky5oRfwae"
      },
      "execution_count": null,
      "outputs": []
    }
  ]
}